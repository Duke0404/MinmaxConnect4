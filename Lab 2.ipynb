{
 "cells": [
  {
   "attachments": {},
   "cell_type": "markdown",
   "metadata": {},
   "source": [
    "# Lab 2"
   ]
  },
  {
   "cell_type": "code",
   "execution_count": null,
   "metadata": {},
   "outputs": [],
   "source": [
    "import numpy\n",
    "from IPython.display import clear_output\n",
    "from time import sleep\n",
    "from random import randint, choice"
   ]
  },
  {
   "cell_type": "code",
   "execution_count": null,
   "metadata": {},
   "outputs": [],
   "source": [
    "OPEN = 0\n",
    "PLAYER_1 = 1\n",
    "PLAYER_2 = 2"
   ]
  },
  {
   "cell_type": "code",
   "execution_count": null,
   "metadata": {},
   "outputs": [],
   "source": [
    "DELAY_TIME = 1 # seconds"
   ]
  },
  {
   "attachments": {},
   "cell_type": "markdown",
   "metadata": {},
   "source": [
    "#### Function to Initialize board"
   ]
  },
  {
   "cell_type": "code",
   "execution_count": null,
   "metadata": {},
   "outputs": [],
   "source": [
    "def create_board():\n",
    "\treturn numpy.zeros((6, 7))"
   ]
  },
  {
   "attachments": {},
   "cell_type": "markdown",
   "metadata": {},
   "source": [
    "#### Function to print board"
   ]
  },
  {
   "cell_type": "code",
   "execution_count": null,
   "metadata": {},
   "outputs": [],
   "source": [
    "def print_board(board: numpy.ndarray):\n",
    "    clear_output()\n",
    "\n",
    "    flipped_board = numpy.flip(board, 0)\n",
    "\n",
    "    OPEN_SPACE_SYMBOL = \"○\"\n",
    "    COIN_SYMBOL = \"●\"\n",
    "\n",
    "    output = \"\"\n",
    "\n",
    "    for index, element in numpy.ndenumerate(flipped_board):\n",
    "        if element == PLAYER_1:\n",
    "            output += \"\\x1b[31m\" + COIN_SYMBOL + \"\\x1b[0m \"\n",
    "        elif element == PLAYER_2:\n",
    "            output += \"\\x1b[33m\" + COIN_SYMBOL + \"\\x1b[0m \"\n",
    "        elif element == OPEN:\n",
    "            output += OPEN_SPACE_SYMBOL + \" \"\n",
    "        if index[1] == 6:\n",
    "            output += \"\\n\"\n",
    "\n",
    "    print(output + \"-------------\\n0 1 2 3 4 5 6\")\n",
    "    sleep(DELAY_TIME)"
   ]
  },
  {
   "attachments": {},
   "cell_type": "markdown",
   "metadata": {},
   "source": [
    "#### Function to check if a move is valid"
   ]
  },
  {
   "cell_type": "code",
   "execution_count": null,
   "metadata": {},
   "outputs": [],
   "source": [
    "def valid_column(board: numpy.ndarray, column: int,):\n",
    "    return column >= 0 and column <= 6 and board[5][column] == OPEN"
   ]
  },
  {
   "attachments": {},
   "cell_type": "markdown",
   "metadata": {},
   "source": [
    "#### Function that returns a list of valid moves"
   ]
  },
  {
   "cell_type": "code",
   "execution_count": null,
   "metadata": {},
   "outputs": [],
   "source": [
    "def list_valid_columns(board: numpy.ndarray):\n",
    "\tvalid_cols = []\n",
    "\tfor col in range(7):\n",
    "\t\tif valid_column(board, col):\n",
    "\t\t\tvalid_cols.append(col)\n",
    "\treturn valid_cols"
   ]
  },
  {
   "attachments": {},
   "cell_type": "markdown",
   "metadata": {},
   "source": [
    "#### Function to check which row a move will be placed in if valid"
   ]
  },
  {
   "cell_type": "code",
   "execution_count": null,
   "metadata": {},
   "outputs": [],
   "source": [
    "def open_row(board: numpy.ndarray, column: int):\n",
    "\tfor i in range(6):\n",
    "\t\tif board[i][column] == OPEN:\n",
    "\t\t\treturn i"
   ]
  },
  {
   "attachments": {},
   "cell_type": "markdown",
   "metadata": {},
   "source": [
    "#### Function to make a move"
   ]
  },
  {
   "cell_type": "code",
   "execution_count": null,
   "metadata": {},
   "outputs": [],
   "source": [
    "def drop_coin(board: numpy.ndarray, row: int, column: int, coin: int):\n",
    "\tboard[row][column] = coin"
   ]
  },
  {
   "attachments": {},
   "cell_type": "markdown",
   "metadata": {},
   "source": [
    "#### Function to check if a player has won"
   ]
  },
  {
   "cell_type": "code",
   "execution_count": null,
   "metadata": {},
   "outputs": [],
   "source": [
    "def winning_move(board: numpy.ndarray, player: int):\n",
    "\t# Check horizontal locations for win\n",
    "\tfor c in range(4):\n",
    "\t\tfor r in range(6):\n",
    "\t\t\tif board[r][c] == player and board[r][c+1] == player and board[r][c+2] == player and board[r][c+3] == player:\n",
    "\t\t\t\treturn True\n",
    "\n",
    "\t# Check vertical locations for win\n",
    "\tfor c in range(7):\n",
    "\t\tfor r in range(3):\n",
    "\t\t\tif board[r][c] == player and board[r+1][c] == player and board[r+2][c] == player and board[r+3][c] == player:\n",
    "\t\t\t\treturn True\n",
    "\n",
    "\t# Check positively sloped diaganols\n",
    "\tfor c in range(4):\n",
    "\t\tfor r in range(3):\n",
    "\t\t\tif board[r][c] == player and board[r+1][c+1] == player and board[r+2][c+2] == player and board[r+3][c+3] == player:\n",
    "\t\t\t\treturn True\n",
    "\n",
    "\t# Check negatively sloped diaganols\n",
    "\tfor c in range(4):\n",
    "\t\tfor r in range(3, 6):\n",
    "\t\t\tif board[r][c] == player and board[r-1][c+1] == player and board[r-2][c+2] == player and board[r-3][c+3] == player:\n",
    "\t\t\t\treturn True"
   ]
  },
  {
   "attachments": {},
   "cell_type": "markdown",
   "metadata": {},
   "source": [
    "#### Function to check if game is over"
   ]
  },
  {
   "cell_type": "code",
   "execution_count": null,
   "metadata": {},
   "outputs": [],
   "source": [
    "def terminal_node(board: numpy.ndarray):\n",
    "    if winning_move(board, PLAYER_1) or winning_move(board, PLAYER_2):\n",
    "        return True\n",
    "    elif len(list_valid_columns(board)) == 0:\n",
    "        return True\n",
    "    else:\n",
    "        for row in range(6):\n",
    "            for col in range(7):\n",
    "                if board[row][col] == OPEN:\n",
    "                    return False\n",
    "        return True"
   ]
  },
  {
   "attachments": {},
   "cell_type": "markdown",
   "metadata": {},
   "source": [
    "#### Function to evaluate each subsection of the board and return a score"
   ]
  },
  {
   "cell_type": "code",
   "execution_count": null,
   "metadata": {},
   "outputs": [],
   "source": [
    "def evaluate_window(window: list, player: int):\n",
    "\tscore = 0\n",
    "\topponent = PLAYER_1 if player == PLAYER_2 else PLAYER_2\n",
    "\n",
    "\tif window.count(player) == 3 and window.count(OPEN) == 1:\n",
    "\t\tscore += 5\n",
    "\telif window.count(player) == 2 and window.count(OPEN) == 2:\n",
    "\t\tscore += 2\n",
    "\n",
    "\tif window.count(opponent) == 3 and window.count(OPEN) == 1:\n",
    "\t\tscore -= 4\n",
    "\t\n",
    "\treturn score"
   ]
  },
  {
   "attachments": {},
   "cell_type": "markdown",
   "metadata": {},
   "source": [
    "#### Function to scan the board in different directions and evaluating each subsection"
   ]
  },
  {
   "cell_type": "code",
   "execution_count": null,
   "metadata": {},
   "outputs": [],
   "source": [
    "def score_position(board: numpy.ndarray, player: int):\n",
    "\tscore = 0\n",
    "\n",
    "\t# Score center column\n",
    "\tcenter_array = [int(i) for i in list(board[:, 3])]\n",
    "\tscore += center_array.count(player) * 3\n",
    "\n",
    "\t# Score horizontal\n",
    "\tfor r in range(6):\n",
    "\t\trow_array = [int(i) for i in list(board[r, :])]\n",
    "\t\tfor c in range(4):\n",
    "\t\t\tscore += evaluate_window(row_array[c:c+4], player)\n",
    "\n",
    "\t# Score vertical\n",
    "\tfor c in range(7):\n",
    "\t\tcol_array = [int(i) for i in list(board[:, c])]\n",
    "\t\tfor r in range(3):\n",
    "\t\t\tevaluate_window(col_array[r:r+4], player)\n",
    "\n",
    "\t# Score positive sloped diagonal\n",
    "\tfor r in range(3):\n",
    "\t\tfor c in range(4):\n",
    "\t\t\tevaluate_window([board[r+i][c+i] for i in range(4)], player)\n",
    "\n",
    "\t# Score negative sloped diagonal\n",
    "\tfor r in range(3, 6):\n",
    "\t\tfor c in range(4):\n",
    "\t\t\tevaluate_window([board[r-i][c+i] for i in range(4)], player)\n",
    "\n",
    "\treturn score"
   ]
  },
  {
   "attachments": {},
   "cell_type": "markdown",
   "metadata": {},
   "source": [
    "### Function applying minmax algorithm to find the best move"
   ]
  },
  {
   "cell_type": "code",
   "execution_count": null,
   "metadata": {},
   "outputs": [],
   "source": [
    "def minmax(board: numpy.ndarray, depth: int, alpha: int, beta: int, maximizingPlayer: bool, player: int):\n",
    "    valid_cols = list_valid_columns(board)\n",
    "    opponent = PLAYER_1 if player == PLAYER_2 else PLAYER_2\n",
    "\n",
    "    if terminal_node(board):\n",
    "        if winning_move(board, player):\n",
    "            return None, 100\n",
    "        elif winning_move(board, opponent):\n",
    "            return None, -100\n",
    "        else:\n",
    "            return None, 0\n",
    "        \n",
    "    elif depth == 0:\n",
    "        if maximizingPlayer:\n",
    "            return None, score_position(board, player)\n",
    "        else:\n",
    "            return None, score_position(board, opponent)\n",
    "\n",
    "    if maximizingPlayer:\n",
    "        value = -numpy.inf\n",
    "        column = None\n",
    "        for col in valid_cols:\n",
    "            row = open_row(board, col)\n",
    "            if row is None:\n",
    "                continue\n",
    "            temp_board = board.copy()\n",
    "            drop_coin(temp_board, row, col, player)\n",
    "            new_score = minmax(temp_board, depth - 1, alpha, beta, False, player)[1]\n",
    "            if new_score > value:\n",
    "                value = new_score\n",
    "                column = col\n",
    "\n",
    "            alpha = max(alpha, value)\n",
    "            if alpha >= beta:\n",
    "                break\n",
    "\n",
    "        return column, value\n",
    "    \n",
    "    else:\n",
    "        value = numpy.inf\n",
    "        column = None\n",
    "        for col in valid_cols:\n",
    "            row = open_row(board, col)\n",
    "            if row is None:\n",
    "                continue\n",
    "            temp_board = board.copy()\n",
    "            drop_coin(temp_board, row, col, opponent)\n",
    "            new_score = minmax(temp_board, depth - 1, alpha, beta, True, player)[1]\n",
    "            if new_score < value:\n",
    "                value = new_score\n",
    "                column = col\n",
    "\n",
    "            beta = min(beta, value)\n",
    "            if alpha >= beta:\n",
    "                break\n",
    "\n",
    "        return column, value"
   ]
  },
  {
   "cell_type": "code",
   "execution_count": null,
   "metadata": {},
   "outputs": [],
   "source": [
    "game_over = False\n",
    "board = create_board()\n",
    "turn = randint(PLAYER_1, PLAYER_2)\n",
    "winner = None"
   ]
  },
  {
   "cell_type": "code",
   "execution_count": null,
   "metadata": {},
   "outputs": [],
   "source": [
    "print_board(board)\n",
    "\n",
    "while not game_over:\n",
    "    if turn == PLAYER_1:\n",
    "        valid_move = False\n",
    "        while not valid_move:\n",
    "            column = int(input(\"Player 1 move: \"))\n",
    "\n",
    "            if valid_column(board, column):\n",
    "                drop_coin(board, open_row(board, column), column, PLAYER_1)\n",
    "                valid_move = True\n",
    "            else:\n",
    "                print(\"Invalid column. Please choose another one.\")\n",
    "                sleep(DELAY_TIME)\n",
    "\n",
    "        if winning_move(board, PLAYER_1):\n",
    "            winner = PLAYER_1\n",
    "            game_over = True\n",
    "    elif turn == PLAYER_2:\n",
    "        column = minmax(board, 5, -numpy.inf, numpy.inf, True, PLAYER_2)[0]\n",
    "\n",
    "        if valid_column(board, column):\n",
    "            drop_coin(board, open_row(board, column), column, PLAYER_2)\n",
    "\n",
    "            if winning_move(board, PLAYER_2):\n",
    "                winner = PLAYER_2\n",
    "                game_over = True\n",
    "\n",
    "    print_board(board)\n",
    "\n",
    "    if winner is not None:\n",
    "        print(f\"Player {winner} wins!\")\n",
    "\n",
    "    elif len(list_valid_columns(board)) == 0:\n",
    "        print(\"Game Over. It's a draw.\")\n",
    "        game_over = True\n",
    "\n",
    "    turn = PLAYER_2 if turn == PLAYER_1 else PLAYER_1\n"
   ]
  }
 ],
 "metadata": {
  "kernelspec": {
   "display_name": "Python 3",
   "language": "python",
   "name": "python3"
  },
  "language_info": {
   "codemirror_mode": {
    "name": "ipython",
    "version": 3
   },
   "file_extension": ".py",
   "mimetype": "text/x-python",
   "name": "python",
   "nbconvert_exporter": "python",
   "pygments_lexer": "ipython3",
   "version": "3.9.13"
  },
  "orig_nbformat": 4
 },
 "nbformat": 4,
 "nbformat_minor": 2
}
